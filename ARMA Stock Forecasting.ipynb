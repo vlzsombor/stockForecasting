{
 "cells": [
  {
   "cell_type": "code",
   "execution_count": null,
   "metadata": {},
   "outputs": [],
   "source": [
    "import yfinance as yf\n",
    "from datetime import datetime, timedelta\n",
    "import matplotlib.pyplot as plt\n",
    "from statsmodels.graphics.tsaplots import plot_acf, plot_pacf\n",
    "from statsmodels.tsa.arima.model import ARIMA\n",
    "import numpy as np\n",
    "import seaborn as sns\n",
    "from tqdm import tqdm\n",
    "import pandas as pd\n",
    "from statsmodels.tools.sm_exceptions import ValueWarning, HessianInversionWarning, ConvergenceWarning\n",
    "import warnings\n",
    "import csv\n",
    "\n",
    "\n",
    "#in practice do not supress these warnings, they carry important information about the status of your model\n",
    "warnings.filterwarnings('ignore', category=ValueWarning)\n",
    "warnings.filterwarnings('ignore', category=HessianInversionWarning)\n",
    "warnings.filterwarnings('ignore', category=ConvergenceWarning)\n"
   ]
  },
  {
   "cell_type": "markdown",
   "metadata": {},
   "source": [
    "# Simulate Buying and Selling Stock Using ARMA(p,q)"
   ]
  },
  {
   "cell_type": "code",
   "execution_count": null,
   "metadata": {},
   "outputs": [],
   "source": [
    "def run_simulation(returns, prices, amt, order, thresh, verbose=False, plot=True):\n",
    "    if type(order) == float:\n",
    "        thresh = None\n",
    "        \n",
    "    curr_holding = False\n",
    "    events_list = []\n",
    "    init_amt = amt\n",
    "\n",
    "    #go through dates\n",
    "    for date, r in tqdm (returns.iloc[14:].items(), total=len(returns.iloc[14:])):\n",
    "        #if you're currently holding the stock, sell it\n",
    "        if curr_holding:\n",
    "            sell_price = prices.loc[date]\n",
    "            curr_holding=False\n",
    "            ret = (sell_price-buy_price)/buy_price\n",
    "            amt *= (1+ret)\n",
    "            events_list.append(('s', date, ret))\n",
    "            \n",
    "            if verbose:\n",
    "                print('Sold at $%s'%sell_price)\n",
    "                print('Predicted Return: %s'%round(pred,4))\n",
    "                print('Actual Return: %s'%(round(ret, 4)))\n",
    "                print('=======================================')\n",
    "            continue\n",
    "\n",
    "        #get data til just before current date\n",
    "        curr_data = returns[:date]\n",
    "        \n",
    "        if type(order) == tuple:\n",
    "            try:\n",
    "                #fit model\n",
    "                model = ARIMA(curr_data, order=order).fit()\n",
    "\n",
    "                #get forecast\n",
    "                pred = model.forecast().values[0]\n",
    "\n",
    "            except Exception as ex:\n",
    "                print(str(ex))\n",
    "                pred = thresh - 1\n",
    "\n",
    "\n",
    "\n",
    "        #if you predict a high enough return and not holding, buy stock\n",
    "        if (not curr_holding) and \\\n",
    "        ((type(order) == float and np.random.random() < order) \n",
    "         or (type(order) == tuple and pred > thresh)\n",
    "         or (order == 'last' and curr_data[-1] > 0)):\n",
    "            \n",
    "            curr_holding = True\n",
    "            buy_price = prices.loc[date]\n",
    "            events_list.append(('b', date))\n",
    "            if verbose:\n",
    "                print('Bought at $%s'%buy_price)\n",
    "                \n",
    "    if verbose:\n",
    "        print('Total Amount: $%s'%round(amt,2))\n",
    "        \n",
    "    #graph\n",
    "    if plot:\n",
    "    \n",
    "        plt.figure(figsize=(10,4))\n",
    "        plt.plot(prices[14:])\n",
    "\n",
    "        y_lims = (int(prices.min()*.95), int(prices.max()*1.05))\n",
    "        shaded_y_lims = int(prices.min()*.5), int(prices.max()*1.5)\n",
    "\n",
    "        for idx, event in enumerate(events_list):\n",
    "            plt.axvline(event[1], color='k', linestyle='--', alpha=0.4)\n",
    "            if event[0] == 's':\n",
    "                color = 'green' if event[2] > 0 else 'red'\n",
    "                plt.fill_betweenx(range(*shaded_y_lims), \n",
    "                                  event[1], events_list[idx-1][1], color=color, alpha=0.1)\n",
    "\n",
    "        tot_return = round(100*(amt / init_amt - 1), 2)\n",
    "        tot_return = str(tot_return) + '%'\n",
    "        plt.title(\"%s Price Data\\nThresh=%s\\nTotal Amt: $%s\\nTotal Return: %s\"%(tickerSymbol, thresh, round(amt,2), tot_return), fontsize=20)\n",
    "        plt.ylim(*y_lims)\n",
    "        plt.show()\n",
    "    \n",
    "    return amt"
   ]
  },
  {
   "cell_type": "code",
   "execution_count": null,
   "metadata": {},
   "outputs": [],
   "source": [
    "def run_simulation_last(returns, prices, amt, order, thresh, verbose=False, plot=True):\n",
    "    if type(order) == float:\n",
    "        thresh = None\n",
    "        \n",
    "    curr_holding = False\n",
    "    events_list = []\n",
    "    init_amt = amt\n",
    "\n",
    "    #go through dates\n",
    "    for date, r in tqdm (returns.iloc[14:].items(), total=len(returns.iloc[14:])):\n",
    "        #if you're currently holding the stock, sell it\n",
    "        if curr_holding:\n",
    "            sell_price = prices.loc[date]\n",
    "            curr_holding=False\n",
    "            ret = (sell_price-buy_price)/buy_price\n",
    "            amt *= (1+ret)\n",
    "            events_list.append(('s', date, sell_price, ret))\n",
    "            \n",
    "            if verbose:\n",
    "                print('Sold at $%s'%sell_price)\n",
    "                print('Predicted Return: %s'%round(pred,4))\n",
    "                print('Actual Return: %s'%(round(ret, 4)))\n",
    "                print('=======================================')\n",
    "            continue\n",
    "\n",
    "        #get data til just before current date\n",
    "        curr_data = returns[:date]\n",
    "        \n",
    "        if type(order) == tuple:\n",
    "            try:\n",
    "                #fit model\n",
    "                model = ARIMA(curr_data, order=order).fit()\n",
    "\n",
    "                #get forecast\n",
    "                pred = model.forecast().values[0]\n",
    "\n",
    "            except Exception as ex:\n",
    "                print(str(ex))\n",
    "                pred = thresh - 1\n",
    "\n",
    "\n",
    "\n",
    "        #if you predict a high enough return and not holding, buy stock\n",
    "        if (not curr_holding) and \\\n",
    "        ((type(order) == float and np.random.random() < order) \n",
    "         or (type(order) == tuple and pred > thresh)\n",
    "         or (order == 'last' and curr_data[-1] > 0)):\n",
    "            \n",
    "            curr_holding = True\n",
    "            buy_price = prices.loc[date]\n",
    "            events_list.append(('b', date,buy_price))\n",
    "            if verbose:\n",
    "                print('Bought at $%s'%buy_price)\n",
    "                \n",
    "    if verbose:\n",
    "        print('Total Amount: $%s'%round(amt,2))\n",
    "        \n",
    "    with open('profiles1.csv', 'a', newline='') as file:\n",
    "        writer = csv.writer(file)\n",
    "\n",
    "        writer.writerow([events_list[-1][1], events_list[-1][0],events_list[-1][2]])\n",
    "\n",
    "    \n",
    "    return amt"
   ]
  },
  {
   "cell_type": "code",
   "execution_count": 2,
   "metadata": {},
   "outputs": [
    {
     "name": "stderr",
     "output_type": "stream",
     "text": [
      "/Users/zsomborveres-lakos/anaconda3/lib/python3.11/site-packages/statsmodels/tsa/base/tsa_model.py:473: ValueWarning: A date index has been provided, but it has no associated frequency information and so will be ignored when e.g. forecasting.\n",
      "  self._init_dates(dates, freq)\n",
      "/Users/zsomborveres-lakos/anaconda3/lib/python3.11/site-packages/statsmodels/tsa/base/tsa_model.py:473: ValueWarning: A date index has been provided, but it has no associated frequency information and so will be ignored when e.g. forecasting.\n",
      "  self._init_dates(dates, freq)\n",
      "/Users/zsomborveres-lakos/anaconda3/lib/python3.11/site-packages/statsmodels/tsa/base/tsa_model.py:473: ValueWarning: A date index has been provided, but it has no associated frequency information and so will be ignored when e.g. forecasting.\n",
      "  self._init_dates(dates, freq)\n",
      "/Users/zsomborveres-lakos/anaconda3/lib/python3.11/site-packages/statsmodels/tsa/base/tsa_model.py:836: ValueWarning: No supported index is available. Prediction results will be given with an integer index beginning at `start`.\n",
      "  return get_prediction_index(\n",
      "/Users/zsomborveres-lakos/anaconda3/lib/python3.11/site-packages/statsmodels/tsa/base/tsa_model.py:836: FutureWarning: No supported index is available. In the next version, calling this method in a model without a supported index will result in an exception.\n",
      "  return get_prediction_index(\n"
     ]
    }
   ],
   "source": [
    "import csv\n",
    "from datetime import datetime\n",
    "from statsmodels.tsa.arima.model import ARIMA\n",
    "\n",
    "import yfinance as yf\n",
    "import csv\n",
    "from datetime import datetime\n",
    "\n",
    "\n",
    "# Step 2: Define the class with date and action attributes\n",
    "class DataRecord:\n",
    "    def __init__(self,action, buy_price, predicted_return, date, sell_price, total_amount: int, total_return: int):\n",
    "        self.date = date\n",
    "        self.total_amount = total_amount\n",
    "        self.sell_price = sell_price\n",
    "        self.total_return = total_return\n",
    "        self.action = action\n",
    "        self.buy_price = buy_price\n",
    "        self.predicted_value = predicted_return\n",
    "\n",
    "\n",
    "    def __repr__(self):\n",
    "        return f\"DataRecord(date={self.date}, action='{self.action}, buy_price='{self.buy_price}')\"\n",
    "    \n",
    "\n",
    "def read_second_to_last_line(filename):\n",
    "    with open(filename, newline='') as csvfile:\n",
    "        reader = list(csv.reader(csvfile))\n",
    "        if len(reader) < 3:\n",
    "            return None  # If the file has less than 3 lines (including the header), return None\n",
    "        return reader[-2]  # Second to last line\n",
    "# Step 3: Read and serialize the CSV\n",
    "\n",
    "def append_to_last_line(filename, additional_values):\n",
    "    # Step 1: Read the entire CSV file\n",
    "    with open(filename, 'r') as csvfile:\n",
    "        reader = list(csv.reader(csvfile))\n",
    "    \n",
    "    # Step 2: Append the additional values to the last line\n",
    "    if reader:\n",
    "        reader[-1].extend(additional_values)\n",
    "    \n",
    "    # Step 3: Write the modified data back to the CSV file\n",
    "    with open(filename, 'w', newline='') as csvfile:\n",
    "        writer = csv.writer(csvfile)\n",
    "        writer.writerows(reader)\n",
    "\n",
    "def create_a_new_line(filename, values):\n",
    "    # Step 3: Write the modified data back to the CSV file\n",
    "    with open(filename, 'a', newline='') as csvfile:\n",
    "        writer = csv.writer(csvfile)\n",
    "        writer.writerow(values)\n",
    "\n",
    "def read_csv_serialize(filename):\n",
    "    second_to_last_line = read_second_to_last_line(filename)\n",
    "    # Parse the date\n",
    "\n",
    "    # Extract the action\n",
    "    action = second_to_last_line[0]\n",
    "    buy_price = float(second_to_last_line[1])\n",
    "    predicted_return = float(second_to_last_line[2])\n",
    "    date = datetime.strptime(second_to_last_line[3], '%Y-%m-%d %H:%M:%S%z')\n",
    "    sell_price = float(second_to_last_line[4])\n",
    "    total_amount = float(second_to_last_line[5])\n",
    "    total_return = float(second_to_last_line[6])\n",
    "\n",
    "    # Create a DataRecord instance and append to the list\n",
    "    return DataRecord(action, buy_price, predicted_return, date, sell_price, total_amount, total_return)\n",
    "\n",
    "filename = 'profiles1.csv'  \n",
    "order = (5,0,0)  \n",
    "thresh = 0.005 \n",
    "second_last = read_csv_serialize(filename)\n",
    "\n",
    "\n",
    "tickerSymbol = 'AAPL'\n",
    "data = yf.Ticker(tickerSymbol)\n",
    "\n",
    "prices = data.history(period=\"3mo\").Close\n",
    "returns = prices.pct_change().dropna()\n",
    "\n",
    "\n",
    "if second_last.action == 'b':\n",
    "    sell_price = prices.values[-1]\n",
    "    curr_holding=False\n",
    "    ret = (sell_price-second_last.buy_price)/second_last.buy_price\n",
    "    amt = (1+ret) * second_last.total_amount\n",
    "    # Example usage\n",
    "    additional_values = [prices.index[-1], sell_price, amt, ret]  # Values to append to the last line\n",
    "    append_to_last_line(filename, additional_values)\n",
    "else:\n",
    "    additional_values = [prices.index[-1], -1, second_last.total_amount, second_last.total_return]  # Values to append to the last line\n",
    "    append_to_last_line(filename, additional_values)\n",
    "  \n",
    "\n",
    "## prediction\n",
    "\n",
    "if type(order) == tuple:\n",
    "    try:\n",
    "        #fit model\n",
    "        a = returns[:second_last.date]\n",
    "        model = ARIMA(a, order=order).fit()\n",
    "        \n",
    "        #get forecast\n",
    "        pred = model.forecast().values[0]\n",
    "\n",
    "    except Exception as ex:\n",
    "        print(str(ex))\n",
    "        pred = thresh - 1\n",
    "\n",
    "if pred > thresh:\n",
    "    create_a_new_line(filename, ('b', prices.values[-1], pred))\n",
    "else:\n",
    "    create_a_new_line(filename, ('n', prices.values[-1], pred))\n"
   ]
  },
  {
   "cell_type": "markdown",
   "metadata": {},
   "source": [
    "# Read Data"
   ]
  },
  {
   "cell_type": "code",
   "execution_count": null,
   "metadata": {},
   "outputs": [],
   "source": [
    "tickerSymbol = 'AAPL'\n",
    "data = yf.Ticker(tickerSymbol)"
   ]
  },
  {
   "cell_type": "code",
   "execution_count": null,
   "metadata": {},
   "outputs": [],
   "source": [
    "prices = data.history(period=\"3mo\").Close\n",
    "returns = prices.pct_change().dropna()"
   ]
  },
  {
   "cell_type": "code",
   "execution_count": null,
   "metadata": {},
   "outputs": [],
   "source": [
    "plt.figure(figsize=(10,4))\n",
    "plt.plot(prices)\n",
    "plt.ylabel('Prices', fontsize=20)"
   ]
  },
  {
   "cell_type": "code",
   "execution_count": null,
   "metadata": {},
   "outputs": [],
   "source": [
    "plt.figure(figsize=(10,4))\n",
    "plt.plot(returns)\n",
    "plt.ylabel('Return', fontsize=20)"
   ]
  },
  {
   "cell_type": "code",
   "execution_count": null,
   "metadata": {},
   "outputs": [],
   "source": [
    "plot_acf(returns)\n",
    "plt.show()"
   ]
  },
  {
   "cell_type": "code",
   "execution_count": null,
   "metadata": {},
   "outputs": [],
   "source": [
    "plot_pacf(returns)\n",
    "plt.show()"
   ]
  },
  {
   "cell_type": "markdown",
   "metadata": {},
   "source": [
    "# Baseline Model : Random Buying "
   ]
  },
  {
   "cell_type": "code",
   "execution_count": null,
   "metadata": {
    "scrolled": false
   },
   "outputs": [],
   "source": [
    "run_simulation(returns, prices, 100, 0.5, None, verbose=False)"
   ]
  },
  {
   "cell_type": "code",
   "execution_count": null,
   "metadata": {
    "scrolled": true
   },
   "outputs": [],
   "source": [
    "final_amts = [run_simulation(returns, prices, 100, 0.5, None, verbose=False, plot=False) for _ in range(1000)]"
   ]
  },
  {
   "cell_type": "code",
   "execution_count": null,
   "metadata": {},
   "outputs": [],
   "source": [
    "plt.figure(figsize=(10,4))\n",
    "sns.distplot(final_amts)\n",
    "plt.axvline(np.mean(final_amts), color='k', linestyle='--')\n",
    "plt.axvline(100, color='g', linestyle='--')\n",
    "plt.title('Avg: $%s\\nSD: $%s'%(round(np.mean(final_amts),2), round(np.std(final_amts),2)), fontsize=20)"
   ]
  },
  {
   "cell_type": "markdown",
   "metadata": {},
   "source": [
    "# If Last Return was Positive, Buy"
   ]
  },
  {
   "cell_type": "code",
   "execution_count": null,
   "metadata": {},
   "outputs": [],
   "source": [
    "run_simulation_last(returns, prices, 100, 'last', None, verbose=False)"
   ]
  },
  {
   "cell_type": "markdown",
   "metadata": {},
   "source": [
    "# Try AR(1) Model"
   ]
  },
  {
   "cell_type": "code",
   "execution_count": null,
   "metadata": {
    "scrolled": false
   },
   "outputs": [],
   "source": [
    "for thresh in [0, 0.001, 0.005]:\n",
    "    run_simulation(returns, prices, 100, (1,0,0), thresh, verbose=False)"
   ]
  },
  {
   "cell_type": "markdown",
   "metadata": {},
   "source": [
    "# Try AR(5) Model"
   ]
  },
  {
   "cell_type": "code",
   "execution_count": null,
   "metadata": {},
   "outputs": [],
   "source": [
    "for thresh in [0, 0.001, 0.005]:\n",
    "    run_simulation(returns, prices, 100, (5,0,0), thresh, verbose=False)"
   ]
  },
  {
   "cell_type": "markdown",
   "metadata": {},
   "source": [
    "# Try ARMA(5,5) Model"
   ]
  },
  {
   "cell_type": "code",
   "execution_count": null,
   "metadata": {},
   "outputs": [],
   "source": [
    "for thresh in [0, 0.001, 0.005]:\n",
    "    run_simulation(returns, prices, 100, (5,0,5), thresh, verbose=False)"
   ]
  },
  {
   "cell_type": "code",
   "execution_count": null,
   "metadata": {},
   "outputs": [],
   "source": []
  }
 ],
 "metadata": {
  "kernelspec": {
   "display_name": "Python 3",
   "language": "python",
   "name": "python3"
  },
  "language_info": {
   "codemirror_mode": {
    "name": "ipython",
    "version": 3
   },
   "file_extension": ".py",
   "mimetype": "text/x-python",
   "name": "python",
   "nbconvert_exporter": "python",
   "pygments_lexer": "ipython3",
   "version": "3.11.9"
  }
 },
 "nbformat": 4,
 "nbformat_minor": 2
}
